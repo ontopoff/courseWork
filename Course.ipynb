{
 "cells": [
  {
   "cell_type": "code",
   "execution_count": 56,
   "metadata": {},
   "outputs": [],
   "source": [
    "import gym\n",
    "import numpy as np\n",
    "import matplotlib.pyplot as plt"
   ]
  },
  {
   "cell_type": "code",
   "execution_count": 76,
   "metadata": {},
   "outputs": [
    {
     "name": "stdout",
     "output_type": "stream",
     "text": [
      "Action Space: Discrete(3)\n",
      "Observation Space: Box(-1.2000000476837158, 0.6000000238418579, (2,), float32)\n"
     ]
    }
   ],
   "source": [
    "iter_max = 5001\n",
    "\n",
    "env = gym.make('MountainCar-v0')\n",
    "\n",
    "print('Action Space: {}'.format(env.action_space))\n",
    "print('Observation Space: {}'.format(env.observation_space)) "
   ]
  },
  {
   "cell_type": "code",
   "execution_count": 79,
   "metadata": {},
   "outputs": [],
   "source": [
    "actions = np.arange(env.action_space.n)\n",
    "states = obs_to_state(env, env.observation_space.high) + 1\n",
    "\n",
    "initial_learning_rate = 1\n",
    "min_lr = 0.003\n",
    "gamma = 0.9\n",
    "eps = 1\n",
    "begin_epsilon = 0.1\n",
    "\n",
    "obs = env.reset()\n",
    "q_table = np.random.uniform(low = -1, high = 1, \n",
    "                            size = (int(states[0]), int(states[1]), len(actions)))"
   ]
  },
  {
   "cell_type": "code",
   "execution_count": 91,
   "metadata": {},
   "outputs": [
    {
     "data": {
      "text/plain": [
       "[<matplotlib.lines.Line2D at 0x1b8faa5e160>]"
      ]
     },
     "execution_count": 91,
     "metadata": {},
     "output_type": "execute_result"
    },
    {
     "data": {
      "image/png": "[encoded data removed]",
      "text/plain": [
       "<Figure size 432x288 with 1 Axes>"
      ]
     },
     "metadata": {
      "needs_background": "light"
     },
     "output_type": "display_data"
    }
   ],
   "source": [
    "test_lr = np.linspace(1, 5000, 5000)\n",
    "test_min_lr = [0.003]*5000\n",
    "plt.plot(test_lr, 0.85**(test_lr//100))\n",
    "plt.plot(test_lr, test_min_lr, color=\"red\")"
   ]
  },
  {
   "cell_type": "code",
   "execution_count": 59,
   "metadata": {},
   "outputs": [],
   "source": [
    "def obs_to_state(env, obs):\n",
    "    env_low = env.observation_space.low\n",
    "    diff = (obs - env_low)*np.array([10, 100])\n",
    "    return np.round(diff, 0).astype(int)"
   ]
  },
  {
   "cell_type": "code",
   "execution_count": 80,
   "metadata": {},
   "outputs": [
    {
     "name": "stdout",
     "output_type": "stream",
     "text": [
      "Iteration #0 -- Max Attitude = -0.355363 Total reward = -200.\n",
      "Iteration #100 -- Max Attitude = -0.489852 Total reward = -200.\n",
      "Iteration #200 -- Max Attitude = -0.375148 Total reward = -200.\n",
      "Iteration #300 -- Max Attitude = -0.409810 Total reward = -200.\n",
      "Iteration #400 -- Max Attitude = -0.275341 Total reward = -200.\n",
      "Iteration #500 -- Max Attitude = -0.432581 Total reward = -200.\n",
      "Iteration #600 -- Max Attitude = -0.457828 Total reward = -200.\n",
      "Iteration #700 -- Max Attitude = -0.377483 Total reward = -200.\n",
      "Iteration #800 -- Max Attitude = -0.367496 Total reward = -200.\n",
      "Iteration #900 -- Max Attitude = -0.290249 Total reward = -200.\n",
      "Iteration #1000 -- Max Attitude = -0.272601 Total reward = -200.\n",
      "Iteration #1100 -- Max Attitude = -0.321129 Total reward = -200.\n",
      "Iteration #1200 -- Max Attitude = -0.425938 Total reward = -200.\n",
      "Iteration #1300 -- Max Attitude = -0.214989 Total reward = -200.\n",
      "Iteration #1400 -- Max Attitude = -0.350205 Total reward = -200.\n",
      "Iteration #1500 -- Max Attitude = -0.017759 Total reward = -200.\n",
      "Iteration #1600 -- Max Attitude = -0.005434 Total reward = -200.\n",
      "Iteration #1700 -- Max Attitude = -0.262026 Total reward = -200.\n",
      "Iteration #1800 -- Max Attitude = -0.067442 Total reward = -200.\n",
      "Iteration #1900 -- Max Attitude = -0.189046 Total reward = -200.\n",
      "Iteration #2000 -- Max Attitude = 0.016714 Total reward = -200.\n",
      "Iteration #2100 -- Max Attitude = 0.096308 Total reward = -200.\n",
      "Iteration #2200 -- Max Attitude = -0.070913 Total reward = -200.\n",
      "Iteration #2300 -- Max Attitude = -0.044459 Total reward = -200.\n",
      "Iteration #2400 -- Max Attitude = 0.190131 Total reward = -200.\n",
      "Iteration #2500 -- Max Attitude = 0.258259 Total reward = -200.\n",
      "Iteration #2600 -- Max Attitude = 0.081748 Total reward = -200.\n",
      "Iteration #2700 -- Max Attitude = 0.504481 Total reward = -191.\n",
      "Iteration #2800 -- Max Attitude = 0.021275 Total reward = -200.\n",
      "Iteration #2900 -- Max Attitude = 0.176563 Total reward = -200.\n",
      "Iteration #3000 -- Max Attitude = 0.130638 Total reward = -200.\n",
      "Iteration #3100 -- Max Attitude = 0.105446 Total reward = -200.\n",
      "Iteration #3200 -- Max Attitude = 0.240309 Total reward = -200.\n",
      "Iteration #3300 -- Max Attitude = 0.434612 Total reward = -200.\n",
      "Iteration #3400 -- Max Attitude = 0.507832 Total reward = -157.\n",
      "Iteration #3500 -- Max Attitude = 0.354214 Total reward = -200.\n",
      "Iteration #3600 -- Max Attitude = 0.511932 Total reward = -165.\n",
      "Iteration #3700 -- Max Attitude = 0.480186 Total reward = -200.\n",
      "Iteration #3800 -- Max Attitude = 0.524970 Total reward = -193.\n",
      "Iteration #3900 -- Max Attitude = 0.510938 Total reward = -194.\n",
      "Iteration #4000 -- Max Attitude = 0.503370 Total reward = -166.\n",
      "Iteration #4100 -- Max Attitude = 0.517653 Total reward = -152.\n",
      "Iteration #4200 -- Max Attitude = 0.444931 Total reward = -200.\n",
      "Iteration #4300 -- Max Attitude = 0.319535 Total reward = -200.\n",
      "Iteration #4400 -- Max Attitude = 0.510852 Total reward = -126.\n",
      "Iteration #4500 -- Max Attitude = -0.535224 Total reward = -200.\n",
      "Iteration #4600 -- Max Attitude = 0.509585 Total reward = -163.\n",
      "Iteration #4700 -- Max Attitude = 0.505016 Total reward = -172.\n",
      "Iteration #4800 -- Max Attitude = 0.517450 Total reward = -158.\n",
      "Iteration #4900 -- Max Attitude = 0.519952 Total reward = -160.\n",
      "Iteration #5000 -- Max Attitude = 0.517037 Total reward = -167.\n"
     ]
    },
    {
     "data": {
      "text/plain": [
       "Text(0.5, 1.0, 'Average Reward vs Episodes')"
      ]
     },
     "execution_count": 80,
     "metadata": {},
     "output_type": "execute_result"
    },
    {
     "data": {
      "image/png": "[encoded data removed]",
      "text/plain": [
       "<Figure size 432x288 with 1 Axes>"
      ]
     },
     "metadata": {
      "needs_background": "light"
     },
     "output_type": "display_data"
    }
   ],
   "source": [
    "log_frequency = 100\n",
    "episode_rewards = []\n",
    "episode_attitude = []\n",
    "\n",
    "for i in range(iter_max):\n",
    "\n",
    "    cur_state = obs_to_state(env, env.reset())\n",
    "    sum_reward, iepoch_max_atti = 0.0, env.observation_space.low[0]\n",
    "\n",
    "    done = False\n",
    "    eta = max(min_lr, initial_learning_rate * (0.85 ** (i//100)))\n",
    "    while not done:\n",
    "\n",
    "        action = choose_action(cur_state, i/iter_max)\n",
    "\n",
    "        next_state, reward, done, _ = env.step(action)\n",
    "        iepoch_max_atti = max(iepoch_max_atti, next_state[0])\n",
    "        sum_reward += reward\n",
    "\n",
    "        if done and next_state[0] >= 0.5: \n",
    "            q_predict = q_table[cur_state[0], cur_state[1], action]\n",
    "            q_table[cur_state[0], cur_state[1], action] = reward \n",
    "            next_state = obs_to_state(env, next_state)\n",
    "        else:\n",
    "            q_predict = q_table[cur_state[0], cur_state[1], action]\n",
    "            next_state = obs_to_state(env, next_state)\n",
    "            \n",
    "            q_target = reward + gamma * np.max(q_table[next_state[0], next_state[1], :])\n",
    "            q_table[cur_state[0], cur_state[1], action] += eta * (q_target - q_predict) \n",
    "            \n",
    "            cur_state = next_state\n",
    "    \n",
    "    episode_rewards.append(sum_reward)\n",
    "    episode_attitude.append(iepoch_max_atti)\n",
    "    if i % log_frequency == 0:\n",
    "        print('Iteration #%d -- Max Attitude = %f Total reward = %d.' %(i, iepoch_max_atti, sum_reward))\n",
    "        \n",
    "env.close()\n",
    "plt.plot(episode_rewards)\n",
    "plt.xlabel('Episodes')\n",
    "plt.ylabel('Average Reward')\n",
    "plt.title('Average Reward vs Episodes')"
   ]
  },
  {
   "cell_type": "code",
   "execution_count": 93,
   "metadata": {},
   "outputs": [
    {
     "data": {
      "image/png": "[encoded data removed]",
      "text/plain": [
       "<Figure size 432x288 with 1 Axes>"
      ]
     },
     "metadata": {
      "needs_background": "light"
     },
     "output_type": "display_data"
    }
   ],
   "source": [
    "plt.plot(episode_attitude)\n",
    "plt.xlabel('Episodes')\n",
    "plt.ylabel('Max Attitude')\n",
    "plt.title('Max Attitude vs Episodes')"
   ]
  },
  {
   "cell_type": "code",
   "execution_count": 88,
   "metadata": {},
   "outputs": [],
   "source": [
    "solution_policy = np.argmax(q_table, axis=2)\n",
    "solution_policy_scores = [run_episode(env, solution_policy, False) for _ in range(100)]\n",
    "\n",
    "run_episode(env, solution_policy, True)\n",
    "env.close()"
   ]
  },
  {
   "cell_type": "code",
   "execution_count": 86,
   "metadata": {},
   "outputs": [],
   "source": [
    "def run_episode(env, policy=None, render=False):\n",
    "    obs = env.reset()\n",
    "    for _ in range(10001):\n",
    "        if render:\n",
    "            env.render()\n",
    "        state = obs_to_state(env, obs)\n",
    "        action = policy[state[0]][state[1]]\n",
    "\n",
    "        obs, reward, done, _ = env.step(action)\n",
    "        if done:\n",
    "            break"
   ]
  },
  {
   "cell_type": "code",
   "execution_count": 89,
   "metadata": {},
   "outputs": [],
   "source": [
    "def choose_action(state, process):\n",
    "    if np.random.uniform(0, 1) < (begin_epsilon + (eps-begin_epsilon) * process):\n",
    "        action = np.argmax(q_table[state[0], state[1], :])\n",
    "    else:\n",
    "        action = np.random.randint(0, len(actions))\n",
    "    return action"
   ]
  }
 ],
 "metadata": {
  "kernelspec": {
   "display_name": "Python 3",
   "language": "python",
   "name": "python3"
  },
  "language_info": {
   "codemirror_mode": {
    "name": "ipython",
    "version": 3
   },
   "file_extension": ".py",
   "mimetype": "text/x-python",
   "name": "python",
   "nbconvert_exporter": "python",
   "pygments_lexer": "ipython3",
   "version": "3.8.5"
  }
 },
 "nbformat": 4,
 "nbformat_minor": 4
}
